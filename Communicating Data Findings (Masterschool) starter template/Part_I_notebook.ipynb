{
 "cells": [
  {
   "attachments": {},
   "cell_type": "markdown",
   "metadata": {},
   "source": [
    "# Part I - Explorative Analysis of Fordgobike Dataset to Understand Consumer Needs to Better Serve them\n",
    "## By Akoanung Ayaba Abendong\n",
    "\n",
    "> First i will begin by mentioning that i have chosen to work with the Fordgobike dataset simple because it has room to demonstrate some wangling skills besides the expected visualizations from the dataset. \n"
   ]
  },
  {
   "cell_type": "code",
   "execution_count": 91,
   "metadata": {},
   "outputs": [],
   "source": [
    "# import all packages and set plots to be embedded inline\n",
    "import numpy as np\n",
    "import pandas as pd\n",
    "import matplotlib.pyplot as plt\n",
    "import seaborn as sns\n",
    "\n",
    "%matplotlib inline"
   ]
  },
  {
   "cell_type": "markdown",
   "metadata": {},
   "source": [
    "### Load the Data and do Assessment"
   ]
  },
  {
   "cell_type": "code",
   "execution_count": 92,
   "metadata": {},
   "outputs": [],
   "source": [
    "# rloading dataset of interest\n",
    "df_fgb = pd.read_csv('gobike_data.csv')"
   ]
  },
  {
   "cell_type": "code",
   "execution_count": 93,
   "metadata": {},
   "outputs": [
    {
     "data": {
      "text/plain": [
       "(183412, 16)"
      ]
     },
     "execution_count": 93,
     "metadata": {},
     "output_type": "execute_result"
    }
   ],
   "source": [
    "df_fgb.shape"
   ]
  },
  {
   "cell_type": "code",
   "execution_count": 94,
   "metadata": {},
   "outputs": [
    {
     "data": {
      "text/plain": [
       "Index(['duration_sec', 'start_time', 'end_time', 'start_station_id',\n",
       "       'start_station_name', 'start_station_latitude',\n",
       "       'start_station_longitude', 'end_station_id', 'end_station_name',\n",
       "       'end_station_latitude', 'end_station_longitude', 'bike_id', 'user_type',\n",
       "       'member_birth_year', 'member_gender', 'bike_share_for_all_trip'],\n",
       "      dtype='object')"
      ]
     },
     "execution_count": 94,
     "metadata": {},
     "output_type": "execute_result"
    }
   ],
   "source": [
    "df_fgb.columns"
   ]
  },
  {
   "cell_type": "code",
   "execution_count": 95,
   "metadata": {},
   "outputs": [
    {
     "data": {
      "text/html": [
       "<div>\n",
       "<style scoped>\n",
       "    .dataframe tbody tr th:only-of-type {\n",
       "        vertical-align: middle;\n",
       "    }\n",
       "\n",
       "    .dataframe tbody tr th {\n",
       "        vertical-align: top;\n",
       "    }\n",
       "\n",
       "    .dataframe thead th {\n",
       "        text-align: right;\n",
       "    }\n",
       "</style>\n",
       "<table border=\"1\" class=\"dataframe\">\n",
       "  <thead>\n",
       "    <tr style=\"text-align: right;\">\n",
       "      <th></th>\n",
       "      <th>duration_sec</th>\n",
       "      <th>start_time</th>\n",
       "      <th>end_time</th>\n",
       "      <th>start_station_id</th>\n",
       "      <th>start_station_name</th>\n",
       "      <th>start_station_latitude</th>\n",
       "      <th>start_station_longitude</th>\n",
       "      <th>end_station_id</th>\n",
       "      <th>end_station_name</th>\n",
       "      <th>end_station_latitude</th>\n",
       "      <th>end_station_longitude</th>\n",
       "      <th>bike_id</th>\n",
       "      <th>user_type</th>\n",
       "      <th>member_birth_year</th>\n",
       "      <th>member_gender</th>\n",
       "      <th>bike_share_for_all_trip</th>\n",
       "    </tr>\n",
       "  </thead>\n",
       "  <tbody>\n",
       "    <tr>\n",
       "      <th>0</th>\n",
       "      <td>52185</td>\n",
       "      <td>2019-02-28 17:32:10.1450</td>\n",
       "      <td>2019-03-01 08:01:55.9750</td>\n",
       "      <td>21.0</td>\n",
       "      <td>Montgomery St BART Station (Market St at 2nd St)</td>\n",
       "      <td>37.789625</td>\n",
       "      <td>-122.400811</td>\n",
       "      <td>13.0</td>\n",
       "      <td>Commercial St at Montgomery St</td>\n",
       "      <td>37.794231</td>\n",
       "      <td>-122.402923</td>\n",
       "      <td>4902</td>\n",
       "      <td>Customer</td>\n",
       "      <td>1984.0</td>\n",
       "      <td>Male</td>\n",
       "      <td>No</td>\n",
       "    </tr>\n",
       "    <tr>\n",
       "      <th>1</th>\n",
       "      <td>42521</td>\n",
       "      <td>2019-02-28 18:53:21.7890</td>\n",
       "      <td>2019-03-01 06:42:03.0560</td>\n",
       "      <td>23.0</td>\n",
       "      <td>The Embarcadero at Steuart St</td>\n",
       "      <td>37.791464</td>\n",
       "      <td>-122.391034</td>\n",
       "      <td>81.0</td>\n",
       "      <td>Berry St at 4th St</td>\n",
       "      <td>37.775880</td>\n",
       "      <td>-122.393170</td>\n",
       "      <td>2535</td>\n",
       "      <td>Customer</td>\n",
       "      <td>NaN</td>\n",
       "      <td>NaN</td>\n",
       "      <td>No</td>\n",
       "    </tr>\n",
       "    <tr>\n",
       "      <th>2</th>\n",
       "      <td>61854</td>\n",
       "      <td>2019-02-28 12:13:13.2180</td>\n",
       "      <td>2019-03-01 05:24:08.1460</td>\n",
       "      <td>86.0</td>\n",
       "      <td>Market St at Dolores St</td>\n",
       "      <td>37.769305</td>\n",
       "      <td>-122.426826</td>\n",
       "      <td>3.0</td>\n",
       "      <td>Powell St BART Station (Market St at 4th St)</td>\n",
       "      <td>37.786375</td>\n",
       "      <td>-122.404904</td>\n",
       "      <td>5905</td>\n",
       "      <td>Customer</td>\n",
       "      <td>1972.0</td>\n",
       "      <td>Male</td>\n",
       "      <td>No</td>\n",
       "    </tr>\n",
       "    <tr>\n",
       "      <th>3</th>\n",
       "      <td>36490</td>\n",
       "      <td>2019-02-28 17:54:26.0100</td>\n",
       "      <td>2019-03-01 04:02:36.8420</td>\n",
       "      <td>375.0</td>\n",
       "      <td>Grove St at Masonic Ave</td>\n",
       "      <td>37.774836</td>\n",
       "      <td>-122.446546</td>\n",
       "      <td>70.0</td>\n",
       "      <td>Central Ave at Fell St</td>\n",
       "      <td>37.773311</td>\n",
       "      <td>-122.444293</td>\n",
       "      <td>6638</td>\n",
       "      <td>Subscriber</td>\n",
       "      <td>1989.0</td>\n",
       "      <td>Other</td>\n",
       "      <td>No</td>\n",
       "    </tr>\n",
       "    <tr>\n",
       "      <th>4</th>\n",
       "      <td>1585</td>\n",
       "      <td>2019-02-28 23:54:18.5490</td>\n",
       "      <td>2019-03-01 00:20:44.0740</td>\n",
       "      <td>7.0</td>\n",
       "      <td>Frank H Ogawa Plaza</td>\n",
       "      <td>37.804562</td>\n",
       "      <td>-122.271738</td>\n",
       "      <td>222.0</td>\n",
       "      <td>10th Ave at E 15th St</td>\n",
       "      <td>37.792714</td>\n",
       "      <td>-122.248780</td>\n",
       "      <td>4898</td>\n",
       "      <td>Subscriber</td>\n",
       "      <td>1974.0</td>\n",
       "      <td>Male</td>\n",
       "      <td>Yes</td>\n",
       "    </tr>\n",
       "  </tbody>\n",
       "</table>\n",
       "</div>"
      ],
      "text/plain": [
       "   duration_sec                start_time                  end_time  \\\n",
       "0         52185  2019-02-28 17:32:10.1450  2019-03-01 08:01:55.9750   \n",
       "1         42521  2019-02-28 18:53:21.7890  2019-03-01 06:42:03.0560   \n",
       "2         61854  2019-02-28 12:13:13.2180  2019-03-01 05:24:08.1460   \n",
       "3         36490  2019-02-28 17:54:26.0100  2019-03-01 04:02:36.8420   \n",
       "4          1585  2019-02-28 23:54:18.5490  2019-03-01 00:20:44.0740   \n",
       "\n",
       "   start_station_id                                start_station_name  \\\n",
       "0              21.0  Montgomery St BART Station (Market St at 2nd St)   \n",
       "1              23.0                     The Embarcadero at Steuart St   \n",
       "2              86.0                           Market St at Dolores St   \n",
       "3             375.0                           Grove St at Masonic Ave   \n",
       "4               7.0                               Frank H Ogawa Plaza   \n",
       "\n",
       "   start_station_latitude  start_station_longitude  end_station_id  \\\n",
       "0               37.789625              -122.400811            13.0   \n",
       "1               37.791464              -122.391034            81.0   \n",
       "2               37.769305              -122.426826             3.0   \n",
       "3               37.774836              -122.446546            70.0   \n",
       "4               37.804562              -122.271738           222.0   \n",
       "\n",
       "                               end_station_name  end_station_latitude  \\\n",
       "0                Commercial St at Montgomery St             37.794231   \n",
       "1                            Berry St at 4th St             37.775880   \n",
       "2  Powell St BART Station (Market St at 4th St)             37.786375   \n",
       "3                        Central Ave at Fell St             37.773311   \n",
       "4                         10th Ave at E 15th St             37.792714   \n",
       "\n",
       "   end_station_longitude  bike_id   user_type  member_birth_year  \\\n",
       "0            -122.402923     4902    Customer             1984.0   \n",
       "1            -122.393170     2535    Customer                NaN   \n",
       "2            -122.404904     5905    Customer             1972.0   \n",
       "3            -122.444293     6638  Subscriber             1989.0   \n",
       "4            -122.248780     4898  Subscriber             1974.0   \n",
       "\n",
       "  member_gender bike_share_for_all_trip  \n",
       "0          Male                      No  \n",
       "1           NaN                      No  \n",
       "2          Male                      No  \n",
       "3         Other                      No  \n",
       "4          Male                     Yes  "
      ]
     },
     "execution_count": 95,
     "metadata": {},
     "output_type": "execute_result"
    }
   ],
   "source": [
    "df_fgb.head()"
   ]
  },
  {
   "cell_type": "code",
   "execution_count": 96,
   "metadata": {},
   "outputs": [
    {
     "data": {
      "text/plain": [
       "duration_sec                 int64\n",
       "start_time                  object\n",
       "end_time                    object\n",
       "start_station_id           float64\n",
       "start_station_name          object\n",
       "start_station_latitude     float64\n",
       "start_station_longitude    float64\n",
       "end_station_id             float64\n",
       "end_station_name            object\n",
       "end_station_latitude       float64\n",
       "end_station_longitude      float64\n",
       "bike_id                      int64\n",
       "user_type                   object\n",
       "member_birth_year          float64\n",
       "member_gender               object\n",
       "bike_share_for_all_trip     object\n",
       "dtype: object"
      ]
     },
     "execution_count": 96,
     "metadata": {},
     "output_type": "execute_result"
    }
   ],
   "source": [
    "#lets gtake a look at the data types\n",
    "df_fgb.dtypes"
   ]
  },
  {
   "cell_type": "markdown",
   "metadata": {},
   "source": [
    "- Observed time associated columns have object datatype instead of datetime"
   ]
  },
  {
   "cell_type": "code",
   "execution_count": 97,
   "metadata": {},
   "outputs": [
    {
     "name": "stdout",
     "output_type": "stream",
     "text": [
      "<class 'pandas.core.frame.DataFrame'>\n",
      "RangeIndex: 183412 entries, 0 to 183411\n",
      "Data columns (total 16 columns):\n",
      " #   Column                   Non-Null Count   Dtype  \n",
      "---  ------                   --------------   -----  \n",
      " 0   duration_sec             183412 non-null  int64  \n",
      " 1   start_time               183412 non-null  object \n",
      " 2   end_time                 183412 non-null  object \n",
      " 3   start_station_id         183215 non-null  float64\n",
      " 4   start_station_name       183215 non-null  object \n",
      " 5   start_station_latitude   183412 non-null  float64\n",
      " 6   start_station_longitude  183412 non-null  float64\n",
      " 7   end_station_id           183215 non-null  float64\n",
      " 8   end_station_name         183215 non-null  object \n",
      " 9   end_station_latitude     183412 non-null  float64\n",
      " 10  end_station_longitude    183412 non-null  float64\n",
      " 11  bike_id                  183412 non-null  int64  \n",
      " 12  user_type                183412 non-null  object \n",
      " 13  member_birth_year        175147 non-null  float64\n",
      " 14  member_gender            175147 non-null  object \n",
      " 15  bike_share_for_all_trip  183412 non-null  object \n",
      "dtypes: float64(7), int64(2), object(7)\n",
      "memory usage: 22.4+ MB\n"
     ]
    }
   ],
   "source": [
    "#lets assess the data information\n",
    "df_fgb.info()"
   ]
  },
  {
   "cell_type": "markdown",
   "metadata": {},
   "source": [
    "- Noticed some columns have null values based on the completeness of the data. its important to pa attention to make apprioate adjustments"
   ]
  },
  {
   "cell_type": "code",
   "execution_count": 98,
   "metadata": {},
   "outputs": [
    {
     "data": {
      "text/plain": [
       "duration_sec                  0\n",
       "start_time                    0\n",
       "end_time                      0\n",
       "start_station_id            197\n",
       "start_station_name          197\n",
       "start_station_latitude        0\n",
       "start_station_longitude       0\n",
       "end_station_id              197\n",
       "end_station_name            197\n",
       "end_station_latitude          0\n",
       "end_station_longitude         0\n",
       "bike_id                       0\n",
       "user_type                     0\n",
       "member_birth_year          8265\n",
       "member_gender              8265\n",
       "bike_share_for_all_trip       0\n",
       "dtype: int64"
      ]
     },
     "execution_count": 98,
     "metadata": {},
     "output_type": "execute_result"
    }
   ],
   "source": [
    "# let take a look at the column with null values\n",
    "df_fgb.isnull().sum()"
   ]
  },
  {
   "cell_type": "code",
   "execution_count": 99,
   "metadata": {},
   "outputs": [
    {
     "data": {
      "text/plain": [
       "0"
      ]
     },
     "execution_count": 99,
     "metadata": {},
     "output_type": "execute_result"
    }
   ],
   "source": [
    "# lets check for duplicates\n",
    "df_fgb.duplicated().sum()"
   ]
  },
  {
   "cell_type": "code",
   "execution_count": 100,
   "metadata": {},
   "outputs": [],
   "source": [
    "# before doing some cleaning, lets make a copy of the dataframe\n",
    "df_fgb_clean = df_fgb.copy()"
   ]
  },
  {
   "cell_type": "code",
   "execution_count": 101,
   "metadata": {},
   "outputs": [],
   "source": [
    "# now lets keep only data that doesnt contain null values for all the columns concerned\n",
    "df_fgb_clean = df_fgb_clean[df_fgb_clean['member_gender'].isnull() == False]\n",
    "df_fgb_clean = df_fgb_clean[df_fgb_clean['start_station_id'].isnull() == False]"
   ]
  },
  {
   "cell_type": "code",
   "execution_count": 102,
   "metadata": {},
   "outputs": [
    {
     "name": "stdout",
     "output_type": "stream",
     "text": [
      "<class 'pandas.core.frame.DataFrame'>\n",
      "Int64Index: 174952 entries, 0 to 183411\n",
      "Data columns (total 16 columns):\n",
      " #   Column                   Non-Null Count   Dtype  \n",
      "---  ------                   --------------   -----  \n",
      " 0   duration_sec             174952 non-null  int64  \n",
      " 1   start_time               174952 non-null  object \n",
      " 2   end_time                 174952 non-null  object \n",
      " 3   start_station_id         174952 non-null  float64\n",
      " 4   start_station_name       174952 non-null  object \n",
      " 5   start_station_latitude   174952 non-null  float64\n",
      " 6   start_station_longitude  174952 non-null  float64\n",
      " 7   end_station_id           174952 non-null  float64\n",
      " 8   end_station_name         174952 non-null  object \n",
      " 9   end_station_latitude     174952 non-null  float64\n",
      " 10  end_station_longitude    174952 non-null  float64\n",
      " 11  bike_id                  174952 non-null  int64  \n",
      " 12  user_type                174952 non-null  object \n",
      " 13  member_birth_year        174952 non-null  float64\n",
      " 14  member_gender            174952 non-null  object \n",
      " 15  bike_share_for_all_trip  174952 non-null  object \n",
      "dtypes: float64(7), int64(2), object(7)\n",
      "memory usage: 22.7+ MB\n"
     ]
    }
   ],
   "source": [
    "df_fgb_clean.info()"
   ]
  },
  {
   "cell_type": "markdown",
   "metadata": {},
   "source": [
    "- dataset seems not to have any null values left"
   ]
  },
  {
   "cell_type": "code",
   "execution_count": 103,
   "metadata": {},
   "outputs": [],
   "source": [
    "# The datatype associate with date needs to be change to datetime\n",
    "df_fgb_clean.start_time = pd.to_datetime(df_fgb_clean.start_time)\n",
    "df_fgb_clean.end_time = pd.to_datetime(df_fgb_clean.end_time)\n",
    "# lets equally change the datatype of bike_share_for_all_trip to boolean type from the object type\n",
    "df_fgb_clean.bike_share_for_all_trip = (df_fgb_clean.bike_share_for_all_trip == 'Yes')"
   ]
  },
  {
   "cell_type": "code",
   "execution_count": 104,
   "metadata": {},
   "outputs": [
    {
     "name": "stdout",
     "output_type": "stream",
     "text": [
      "<class 'pandas.core.frame.DataFrame'>\n",
      "Int64Index: 174952 entries, 0 to 183411\n",
      "Data columns (total 16 columns):\n",
      " #   Column                   Non-Null Count   Dtype         \n",
      "---  ------                   --------------   -----         \n",
      " 0   duration_sec             174952 non-null  int64         \n",
      " 1   start_time               174952 non-null  datetime64[ns]\n",
      " 2   end_time                 174952 non-null  datetime64[ns]\n",
      " 3   start_station_id         174952 non-null  float64       \n",
      " 4   start_station_name       174952 non-null  object        \n",
      " 5   start_station_latitude   174952 non-null  float64       \n",
      " 6   start_station_longitude  174952 non-null  float64       \n",
      " 7   end_station_id           174952 non-null  float64       \n",
      " 8   end_station_name         174952 non-null  object        \n",
      " 9   end_station_latitude     174952 non-null  float64       \n",
      " 10  end_station_longitude    174952 non-null  float64       \n",
      " 11  bike_id                  174952 non-null  int64         \n",
      " 12  user_type                174952 non-null  object        \n",
      " 13  member_birth_year        174952 non-null  float64       \n",
      " 14  member_gender            174952 non-null  object        \n",
      " 15  bike_share_for_all_trip  174952 non-null  bool          \n",
      "dtypes: bool(1), datetime64[ns](2), float64(7), int64(2), object(4)\n",
      "memory usage: 21.5+ MB\n"
     ]
    }
   ],
   "source": [
    "df_fgb_clean.info()"
   ]
  },
  {
   "cell_type": "code",
   "execution_count": 105,
   "metadata": {},
   "outputs": [],
   "source": [
    "# Analysis could also involve some more details which we can extract from other columns to form extra column such as \n",
    "#trip start date, trip_start_hour_of_day, trip_start_day_of_week, trip_start_month, trip_duration_in_minuts, as well as the age_of_members\n",
    "\n",
    "df_fgb_clean['start_date'] = df_fgb_clean.start_time.dt.strftime('%Y-%m-%d')\n",
    "df_fgb_clean['start_hour_of_day'] = df_fgb_clean.start_time.dt.strftime('%H')\n",
    "df_fgb_clean['start_day_of_week'] = df_fgb_clean.start_time.dt.strftime('%A')\n",
    "df_fgb_clean['start_month'] = df_fgb_clean.start_time.dt.strftime('%B')\n",
    "df_fgb_clean['member_age'] = 2019 - df_fgb_clean['member_birth_year'] #Assuming 2019 is the year the data was collected\n",
    "df_fgb_clean['duration_in_minute'] = df_fgb_clean['duration_sec']/60"
   ]
  },
  {
   "cell_type": "code",
   "execution_count": 106,
   "metadata": {},
   "outputs": [
    {
     "data": {
      "text/html": [
       "<div>\n",
       "<style scoped>\n",
       "    .dataframe tbody tr th:only-of-type {\n",
       "        vertical-align: middle;\n",
       "    }\n",
       "\n",
       "    .dataframe tbody tr th {\n",
       "        vertical-align: top;\n",
       "    }\n",
       "\n",
       "    .dataframe thead th {\n",
       "        text-align: right;\n",
       "    }\n",
       "</style>\n",
       "<table border=\"1\" class=\"dataframe\">\n",
       "  <thead>\n",
       "    <tr style=\"text-align: right;\">\n",
       "      <th></th>\n",
       "      <th>duration_sec</th>\n",
       "      <th>start_time</th>\n",
       "      <th>end_time</th>\n",
       "      <th>start_station_id</th>\n",
       "      <th>start_station_name</th>\n",
       "      <th>start_station_latitude</th>\n",
       "      <th>start_station_longitude</th>\n",
       "      <th>end_station_id</th>\n",
       "      <th>end_station_name</th>\n",
       "      <th>end_station_latitude</th>\n",
       "      <th>...</th>\n",
       "      <th>user_type</th>\n",
       "      <th>member_birth_year</th>\n",
       "      <th>member_gender</th>\n",
       "      <th>bike_share_for_all_trip</th>\n",
       "      <th>start_date</th>\n",
       "      <th>start_hour_of_day</th>\n",
       "      <th>start_day_of_week</th>\n",
       "      <th>start_month</th>\n",
       "      <th>member_age</th>\n",
       "      <th>duration_in_minute</th>\n",
       "    </tr>\n",
       "  </thead>\n",
       "  <tbody>\n",
       "    <tr>\n",
       "      <th>0</th>\n",
       "      <td>52185</td>\n",
       "      <td>2019-02-28 17:32:10.145</td>\n",
       "      <td>2019-03-01 08:01:55.975</td>\n",
       "      <td>21.0</td>\n",
       "      <td>Montgomery St BART Station (Market St at 2nd St)</td>\n",
       "      <td>37.789625</td>\n",
       "      <td>-122.400811</td>\n",
       "      <td>13.0</td>\n",
       "      <td>Commercial St at Montgomery St</td>\n",
       "      <td>37.794231</td>\n",
       "      <td>...</td>\n",
       "      <td>Customer</td>\n",
       "      <td>1984.0</td>\n",
       "      <td>Male</td>\n",
       "      <td>False</td>\n",
       "      <td>2019-02-28</td>\n",
       "      <td>17</td>\n",
       "      <td>Thursday</td>\n",
       "      <td>February</td>\n",
       "      <td>35.0</td>\n",
       "      <td>869.750000</td>\n",
       "    </tr>\n",
       "    <tr>\n",
       "      <th>2</th>\n",
       "      <td>61854</td>\n",
       "      <td>2019-02-28 12:13:13.218</td>\n",
       "      <td>2019-03-01 05:24:08.146</td>\n",
       "      <td>86.0</td>\n",
       "      <td>Market St at Dolores St</td>\n",
       "      <td>37.769305</td>\n",
       "      <td>-122.426826</td>\n",
       "      <td>3.0</td>\n",
       "      <td>Powell St BART Station (Market St at 4th St)</td>\n",
       "      <td>37.786375</td>\n",
       "      <td>...</td>\n",
       "      <td>Customer</td>\n",
       "      <td>1972.0</td>\n",
       "      <td>Male</td>\n",
       "      <td>False</td>\n",
       "      <td>2019-02-28</td>\n",
       "      <td>12</td>\n",
       "      <td>Thursday</td>\n",
       "      <td>February</td>\n",
       "      <td>47.0</td>\n",
       "      <td>1030.900000</td>\n",
       "    </tr>\n",
       "    <tr>\n",
       "      <th>3</th>\n",
       "      <td>36490</td>\n",
       "      <td>2019-02-28 17:54:26.010</td>\n",
       "      <td>2019-03-01 04:02:36.842</td>\n",
       "      <td>375.0</td>\n",
       "      <td>Grove St at Masonic Ave</td>\n",
       "      <td>37.774836</td>\n",
       "      <td>-122.446546</td>\n",
       "      <td>70.0</td>\n",
       "      <td>Central Ave at Fell St</td>\n",
       "      <td>37.773311</td>\n",
       "      <td>...</td>\n",
       "      <td>Subscriber</td>\n",
       "      <td>1989.0</td>\n",
       "      <td>Other</td>\n",
       "      <td>False</td>\n",
       "      <td>2019-02-28</td>\n",
       "      <td>17</td>\n",
       "      <td>Thursday</td>\n",
       "      <td>February</td>\n",
       "      <td>30.0</td>\n",
       "      <td>608.166667</td>\n",
       "    </tr>\n",
       "    <tr>\n",
       "      <th>4</th>\n",
       "      <td>1585</td>\n",
       "      <td>2019-02-28 23:54:18.549</td>\n",
       "      <td>2019-03-01 00:20:44.074</td>\n",
       "      <td>7.0</td>\n",
       "      <td>Frank H Ogawa Plaza</td>\n",
       "      <td>37.804562</td>\n",
       "      <td>-122.271738</td>\n",
       "      <td>222.0</td>\n",
       "      <td>10th Ave at E 15th St</td>\n",
       "      <td>37.792714</td>\n",
       "      <td>...</td>\n",
       "      <td>Subscriber</td>\n",
       "      <td>1974.0</td>\n",
       "      <td>Male</td>\n",
       "      <td>True</td>\n",
       "      <td>2019-02-28</td>\n",
       "      <td>23</td>\n",
       "      <td>Thursday</td>\n",
       "      <td>February</td>\n",
       "      <td>45.0</td>\n",
       "      <td>26.416667</td>\n",
       "    </tr>\n",
       "    <tr>\n",
       "      <th>5</th>\n",
       "      <td>1793</td>\n",
       "      <td>2019-02-28 23:49:58.632</td>\n",
       "      <td>2019-03-01 00:19:51.760</td>\n",
       "      <td>93.0</td>\n",
       "      <td>4th St at Mission Bay Blvd S</td>\n",
       "      <td>37.770407</td>\n",
       "      <td>-122.391198</td>\n",
       "      <td>323.0</td>\n",
       "      <td>Broadway at Kearny</td>\n",
       "      <td>37.798014</td>\n",
       "      <td>...</td>\n",
       "      <td>Subscriber</td>\n",
       "      <td>1959.0</td>\n",
       "      <td>Male</td>\n",
       "      <td>False</td>\n",
       "      <td>2019-02-28</td>\n",
       "      <td>23</td>\n",
       "      <td>Thursday</td>\n",
       "      <td>February</td>\n",
       "      <td>60.0</td>\n",
       "      <td>29.883333</td>\n",
       "    </tr>\n",
       "  </tbody>\n",
       "</table>\n",
       "<p>5 rows × 22 columns</p>\n",
       "</div>"
      ],
      "text/plain": [
       "   duration_sec              start_time                end_time  \\\n",
       "0         52185 2019-02-28 17:32:10.145 2019-03-01 08:01:55.975   \n",
       "2         61854 2019-02-28 12:13:13.218 2019-03-01 05:24:08.146   \n",
       "3         36490 2019-02-28 17:54:26.010 2019-03-01 04:02:36.842   \n",
       "4          1585 2019-02-28 23:54:18.549 2019-03-01 00:20:44.074   \n",
       "5          1793 2019-02-28 23:49:58.632 2019-03-01 00:19:51.760   \n",
       "\n",
       "   start_station_id                                start_station_name  \\\n",
       "0              21.0  Montgomery St BART Station (Market St at 2nd St)   \n",
       "2              86.0                           Market St at Dolores St   \n",
       "3             375.0                           Grove St at Masonic Ave   \n",
       "4               7.0                               Frank H Ogawa Plaza   \n",
       "5              93.0                      4th St at Mission Bay Blvd S   \n",
       "\n",
       "   start_station_latitude  start_station_longitude  end_station_id  \\\n",
       "0               37.789625              -122.400811            13.0   \n",
       "2               37.769305              -122.426826             3.0   \n",
       "3               37.774836              -122.446546            70.0   \n",
       "4               37.804562              -122.271738           222.0   \n",
       "5               37.770407              -122.391198           323.0   \n",
       "\n",
       "                               end_station_name  end_station_latitude  ...  \\\n",
       "0                Commercial St at Montgomery St             37.794231  ...   \n",
       "2  Powell St BART Station (Market St at 4th St)             37.786375  ...   \n",
       "3                        Central Ave at Fell St             37.773311  ...   \n",
       "4                         10th Ave at E 15th St             37.792714  ...   \n",
       "5                            Broadway at Kearny             37.798014  ...   \n",
       "\n",
       "    user_type  member_birth_year member_gender  bike_share_for_all_trip  \\\n",
       "0    Customer             1984.0          Male                    False   \n",
       "2    Customer             1972.0          Male                    False   \n",
       "3  Subscriber             1989.0         Other                    False   \n",
       "4  Subscriber             1974.0          Male                     True   \n",
       "5  Subscriber             1959.0          Male                    False   \n",
       "\n",
       "   start_date  start_hour_of_day start_day_of_week start_month member_age  \\\n",
       "0  2019-02-28                 17          Thursday    February       35.0   \n",
       "2  2019-02-28                 12          Thursday    February       47.0   \n",
       "3  2019-02-28                 17          Thursday    February       30.0   \n",
       "4  2019-02-28                 23          Thursday    February       45.0   \n",
       "5  2019-02-28                 23          Thursday    February       60.0   \n",
       "\n",
       "  duration_in_minute  \n",
       "0         869.750000  \n",
       "2        1030.900000  \n",
       "3         608.166667  \n",
       "4          26.416667  \n",
       "5          29.883333  \n",
       "\n",
       "[5 rows x 22 columns]"
      ]
     },
     "execution_count": 106,
     "metadata": {},
     "output_type": "execute_result"
    }
   ],
   "source": [
    "df_fgb_clean.head(5)"
   ]
  },
  {
   "cell_type": "code",
   "execution_count": 107,
   "metadata": {},
   "outputs": [
    {
     "name": "stdout",
     "output_type": "stream",
     "text": [
      "<class 'pandas.core.frame.DataFrame'>\n",
      "Int64Index: 174952 entries, 0 to 183411\n",
      "Data columns (total 22 columns):\n",
      " #   Column                   Non-Null Count   Dtype         \n",
      "---  ------                   --------------   -----         \n",
      " 0   duration_sec             174952 non-null  int64         \n",
      " 1   start_time               174952 non-null  datetime64[ns]\n",
      " 2   end_time                 174952 non-null  datetime64[ns]\n",
      " 3   start_station_id         174952 non-null  float64       \n",
      " 4   start_station_name       174952 non-null  object        \n",
      " 5   start_station_latitude   174952 non-null  float64       \n",
      " 6   start_station_longitude  174952 non-null  float64       \n",
      " 7   end_station_id           174952 non-null  float64       \n",
      " 8   end_station_name         174952 non-null  object        \n",
      " 9   end_station_latitude     174952 non-null  float64       \n",
      " 10  end_station_longitude    174952 non-null  float64       \n",
      " 11  bike_id                  174952 non-null  int64         \n",
      " 12  user_type                174952 non-null  object        \n",
      " 13  member_birth_year        174952 non-null  float64       \n",
      " 14  member_gender            174952 non-null  object        \n",
      " 15  bike_share_for_all_trip  174952 non-null  bool          \n",
      " 16  start_date               174952 non-null  object        \n",
      " 17  start_hour_of_day        174952 non-null  object        \n",
      " 18  start_day_of_week        174952 non-null  object        \n",
      " 19  start_month              174952 non-null  object        \n",
      " 20  member_age               174952 non-null  float64       \n",
      " 21  duration_in_minute       174952 non-null  float64       \n",
      "dtypes: bool(1), datetime64[ns](2), float64(9), int64(2), object(8)\n",
      "memory usage: 29.5+ MB\n"
     ]
    }
   ],
   "source": [
    "df_fgb_clean.info()"
   ]
  },
  {
   "cell_type": "code",
   "execution_count": 108,
   "metadata": {},
   "outputs": [],
   "source": [
    "# Sorting the columns is important to easily see part of the data that could be of interest to me with some order\n",
    "\n",
    "columns_sorted = ['bike_id', 'user_type', 'member_birth_year', 'member_gender', 'member_age', 'start_station_id', 'start_time','start_date', \n",
    "                  'start_hour_of_day','start_day_of_week', 'start_month', 'start_station_name', 'start_station_latitude', \n",
    "                  'start_station_longitude','end_time', 'duration_sec','duration_in_minute','end_station_id', 'end_station_name', \n",
    "                  'end_station_latitude', 'end_station_longitude', 'bike_share_for_all_trip' ]\n",
    "\n",
    "df_fgb_clean = df_fgb_clean[columns_sorted]\n"
   ]
  },
  {
   "cell_type": "code",
   "execution_count": 109,
   "metadata": {},
   "outputs": [],
   "source": [
    "# To be able to use this dtaframe as a dataset afterwards, it makes sense to save it\n",
    "df_fgb_clean.to_csv('df_fgb_clean.csv')\n"
   ]
  },
  {
   "cell_type": "code",
   "execution_count": 110,
   "metadata": {},
   "outputs": [
    {
     "name": "stdout",
     "output_type": "stream",
     "text": [
      "<class 'pandas.core.frame.DataFrame'>\n",
      "Int64Index: 174952 entries, 0 to 183411\n",
      "Data columns (total 22 columns):\n",
      " #   Column                   Non-Null Count   Dtype         \n",
      "---  ------                   --------------   -----         \n",
      " 0   bike_id                  174952 non-null  int64         \n",
      " 1   user_type                174952 non-null  object        \n",
      " 2   member_birth_year        174952 non-null  float64       \n",
      " 3   member_gender            174952 non-null  object        \n",
      " 4   member_age               174952 non-null  float64       \n",
      " 5   start_station_id         174952 non-null  float64       \n",
      " 6   start_time               174952 non-null  datetime64[ns]\n",
      " 7   start_date               174952 non-null  object        \n",
      " 8   start_hour_of_day        174952 non-null  object        \n",
      " 9   start_day_of_week        174952 non-null  object        \n",
      " 10  start_month              174952 non-null  object        \n",
      " 11  start_station_name       174952 non-null  object        \n",
      " 12  start_station_latitude   174952 non-null  float64       \n",
      " 13  start_station_longitude  174952 non-null  float64       \n",
      " 14  end_time                 174952 non-null  datetime64[ns]\n",
      " 15  duration_sec             174952 non-null  int64         \n",
      " 16  duration_in_minute       174952 non-null  float64       \n",
      " 17  end_station_id           174952 non-null  float64       \n",
      " 18  end_station_name         174952 non-null  object        \n",
      " 19  end_station_latitude     174952 non-null  float64       \n",
      " 20  end_station_longitude    174952 non-null  float64       \n",
      " 21  bike_share_for_all_trip  174952 non-null  bool          \n",
      "dtypes: bool(1), datetime64[ns](2), float64(9), int64(2), object(8)\n",
      "memory usage: 29.5+ MB\n"
     ]
    }
   ],
   "source": [
    "df_fgb_clean.info()"
   ]
  },
  {
   "cell_type": "code",
   "execution_count": 111,
   "metadata": {},
   "outputs": [
    {
     "data": {
      "text/plain": [
       "(174952, 22)"
      ]
     },
     "execution_count": 111,
     "metadata": {},
     "output_type": "execute_result"
    }
   ],
   "source": [
    "df_fgb_clean.shape"
   ]
  },
  {
   "cell_type": "markdown",
   "metadata": {},
   "source": [
    "### What is the structure of your dataset?\n",
    "\n",
    "> The original dataset has 174952 fordgobike rides with 16 columns of diffrent atributes. The original dataset has benn modified nonetheless and now has 174952 forgobike rides with 22 columns with diffrent attributes which includes;\n",
    "('bike_id', 'user_type', 'member_birth_year', 'member_gender', 'member_age', 'start_station_id', 'start_time','start_date', \n",
    "  'start_hour_of_day','start_day_of_week', 'start_month', 'start_station_name', 'start_station_latitude', \n",
    "  'start_station_longitude','end_time', 'duration_sec','duration_in_minute','end_station_id','end_station_name', \n",
    "   'end_station_latitude', 'end_station_longitude', 'bike_share_for_all_trip')\n",
    "\n",
    "### What is/are the main feature(s) of interest in your dataset?\n",
    "\n",
    "> The main features of interest includes  the start time,  start station, end station, user type , gender and age. and how this features affect trip duration is worth investigating.  \n",
    "\n",
    "### What features in the dataset do you think will help support your investigation into your feature(s) of interest?\n",
    "\n",
    "> How long each trip last can be achieved using the the start date/time and duration information for each trip. to determine the key customer groups, The member information, such as user type and gender, will help in achieving that; The age of the rider which has already been determine earlier using the the member birth year will be useful as the rides can be grouped into different groups to summarize bike usage data to see if there is any particular pattern associated with a particular group of riders. the hour, day, month and year f the start time will be useful as we can tell which hour, day, month and year is of interest in termas of riders trafic"
   ]
  },
  {
   "cell_type": "markdown",
   "metadata": {},
   "source": [
    "## Univariate Exploration"
   ]
  },
  {
   "cell_type": "markdown",
   "metadata": {},
   "source": [
    "#### Question\n",
    ">How distributed are the ustomers to the various gender"
   ]
  },
  {
   "cell_type": "markdown",
   "metadata": {},
   "source": [
    "#### Visualization"
   ]
  },
  {
   "cell_type": "code",
   "execution_count": 145,
   "metadata": {},
   "outputs": [],
   "source": [
    "\n",
    "def myCountplot(df,xVar,hue=None,color=1, palette=None,order=None):\n",
    "    '''This fuction is writen to avoid code repeatition. it will be called when needed\n",
    "    '''\n",
    "    \n",
    "    #plot dimension\n",
    "    plt.figure(figsize=[10, 6])\n",
    "    #plot\n",
    "    sns.countplot(data = df_fgb_clean , x = xVar, hue = hue, color = sns.color_palette('icefire')[color], palette=palette, order=order, edgecolor = 'black');\n",
    "    xVar=xVar.replace('_',' ' ) # code replaces _ with space\n",
    "    if hue:\n",
    "        hue=hue.replace('_',' ')\n",
    "    #adding title to plot\n",
    "    plt.title(f'''Distribution of {xVar} {'by' if hue else ''} {hue if hue else ''}'''.title(), fontsize=14, weight = 'bold')\n",
    "    plt.xlabel(xVar.title(), fontsize = 10, weight = 'bold')\n",
    "\n",
    "    plt.ylabel('Frequency'.title(), fontsize=10, weight = 'bold')\n",
    "    return myCountplot"
   ]
  },
  {
   "cell_type": "code",
   "execution_count": 146,
   "metadata": {},
   "outputs": [
    {
     "data": {
      "image/png": "[encoded data removed]",
      "text/plain": [
       "<Figure size 720x432 with 1 Axes>"
      ]
     },
     "metadata": {
      "needs_background": "light"
     },
     "output_type": "display_data"
    }
   ],
   "source": [
    "myCountplot(df_fgb_clean, 'member_gender');"
   ]
  },
  {
   "cell_type": "markdown",
   "metadata": {},
   "source": [
    " Observation\n",
    ">From the plot, it is clear that most of the customers who took rides are males followed by females. the males rides are almost three times the female rides in number"
   ]
  },
  {
   "cell_type": "code",
   "execution_count": null,
   "metadata": {},
   "outputs": [],
   "source": []
  },
  {
   "cell_type": "markdown",
   "metadata": {},
   "source": [
    "#### Question\n",
    "\n",
    ">How distributed are the user type within the dataset"
   ]
  },
  {
   "cell_type": "markdown",
   "metadata": {},
   "source": [
    "#### Visualization"
   ]
  },
  {
   "cell_type": "code",
   "execution_count": 147,
   "metadata": {},
   "outputs": [
    {
     "data": {
      "text/plain": [
       "<function __main__.myCountplot(df, xVar, hue=None, color=1, palette=None, order=None)>"
      ]
     },
     "execution_count": 147,
     "metadata": {},
     "output_type": "execute_result"
    },
    {
     "data": {
      "image/png": "[encoded data removed]",
      "text/plain": [
       "<Figure size 720x432 with 1 Axes>"
      ]
     },
     "metadata": {
      "needs_background": "light"
     },
     "output_type": "display_data"
    }
   ],
   "source": [
    "myCountplot(df_fgb_clean, 'user_type')"
   ]
  },
  {
   "cell_type": "markdown",
   "metadata": {},
   "source": [
    "#### Observation\n",
    ">Almost all the riders are subcribers (~160000) with only less than 20000 being customers "
   ]
  },
  {
   "cell_type": "markdown",
   "metadata": {},
   "source": [
    "#### Question:\n",
    "> what is the distribution of the ages with the dataset?"
   ]
  },
  {
   "cell_type": "markdown",
   "metadata": {},
   "source": [
    "#### Visualization"
   ]
  },
  {
   "cell_type": "code",
   "execution_count": 148,
   "metadata": {},
   "outputs": [
    {
     "data": {
      "image/png": "[encoded data removed]",
      "text/plain": [
       "<Figure size 432x288 with 1 Axes>"
      ]
     },
     "metadata": {
      "needs_background": "light"
     },
     "output_type": "display_data"
    }
   ],
   "source": [
    "# to demostrate this, a box plot can be used as well as a voilin plot\n",
    "\n",
    "sns.boxplot(data = df_fgb_clean, y = 'member_age');\n",
    "\n"
   ]
  },
  {
   "cell_type": "markdown",
   "metadata": {},
   "source": [
    " #### Observation:\n",
    "\n",
    "> - The average age of bikers is around 30years. There hapen to be a rider with age 140, this doesnt seem realistic as it practically impossible for a 140 year old to ride a bike. such extremely high values might be drop from the dataset.\n",
    "One can decide to limit the data to have only ages less than 70 as its makes it more realistic.\n",
    "    "
   ]
  },
  {
   "cell_type": "code",
   "execution_count": 27,
   "metadata": {},
   "outputs": [],
   "source": [
    "# lets limit the data to contain only data with age <= 70\n",
    "df_fgb_clean = df_fgb_clean[df_fgb_clean['member_age'] <= 70]"
   ]
  },
  {
   "cell_type": "code",
   "execution_count": 28,
   "metadata": {},
   "outputs": [
    {
     "data": {
      "image/png": "[encoded data removed]",
      "text/plain": [
       "<Figure size 432x288 with 1 Axes>"
      ]
     },
     "metadata": {
      "needs_background": "light"
     },
     "output_type": "display_data"
    }
   ],
   "source": [
    "#ploting a voilin plot for a dataset with realistic ages\n",
    "sns.violinplot(data = df_fgb_clean, y = 'member_age', color = 'lightblue');"
   ]
  },
  {
   "cell_type": "code",
   "execution_count": 29,
   "metadata": {},
   "outputs": [
    {
     "data": {
      "image/png": "[encoded data removed]",
      "text/plain": [
       "<Figure size 720x720 with 1 Axes>"
      ]
     },
     "metadata": {
      "needs_background": "light"
     },
     "output_type": "display_data"
    }
   ],
   "source": [
    "# A countplot will be useful to have a better display of the age distribution of the riders (with age limited to 70) \n",
    "sns.countplot(data = df_fgb_clean, x = 'member_age', color = 'green');\n",
    "plt.xticks(rotation=90);\n",
    "plt.xlabel('Bikers Age');\n",
    "plt.gcf().set_size_inches(10,10)"
   ]
  },
  {
   "cell_type": "markdown",
   "metadata": {},
   "source": [
    "#### Observation:\n",
    "> Plot reveal may of the bikes are 30 years old. Especially at age 31 and the number of bikes reduces considerably with age."
   ]
  },
  {
   "cell_type": "markdown",
   "metadata": {},
   "source": [
    "#### Questions:\n",
    "> How distributed were the rides time?\n",
    "     - the idea here to see the length of time that rider rode and how distributed is are this times\n",
    "        "
   ]
  },
  {
   "cell_type": "code",
   "execution_count": 30,
   "metadata": {},
   "outputs": [
    {
     "data": {
      "image/png": "[encoded data removed]",
      "text/plain": [
       "<Figure size 432x288 with 1 Axes>"
      ]
     },
     "metadata": {
      "needs_background": "light"
     },
     "output_type": "display_data"
    }
   ],
   "source": [
    "\n",
    "bins = np.arange(0, 66, 1)\n",
    "ticks = np.arange(0, 66, 5)\n",
    "plt.hist(data=df_fgb_clean, x='duration_in_minute', bins=bins,color = 'blue');\n",
    "plt.xticks(ticks, ticks);\n",
    "plt.xlabel('Trip Duration in Minute')\n",
    "plt.ylabel('Count');"
   ]
  },
  {
   "cell_type": "markdown",
   "metadata": {},
   "source": [
    ">#### Observation:\n",
    "plot shows majority of rides lasted about 5-10 with very few exceeding 1hour"
   ]
  },
  {
   "cell_type": "markdown",
   "metadata": {},
   "source": [
    "> #### Question:\n",
    "    How distributed are the rides over the hours of the day"
   ]
  },
  {
   "cell_type": "markdown",
   "metadata": {},
   "source": [
    "#### Visualization"
   ]
  },
  {
   "cell_type": "code",
   "execution_count": 153,
   "metadata": {},
   "outputs": [
    {
     "data": {
      "image/png": "[encoded data removed]",
      "text/plain": [
       "<Figure size 720x432 with 1 Axes>"
      ]
     },
     "metadata": {
      "needs_background": "light"
     },
     "output_type": "display_data"
    }
   ],
   "source": [
    "#ride distribution over hours of the day\n",
    "myCountplot(df_fgb_clean,'start_hour_of_day', hue = 'user_type');\n"
   ]
  },
  {
   "cell_type": "markdown",
   "metadata": {},
   "source": [
    "#### Observation:\n",
    "> Plot shows most rides were taken 8am and 5pm and the least rides were taken in the early hours of the morning at 4am"
   ]
  },
  {
   "cell_type": "markdown",
   "metadata": {},
   "source": [
    "#### Question:\n",
    ">How distributed are the rides amongst the days of the week"
   ]
  },
  {
   "cell_type": "code",
   "execution_count": null,
   "metadata": {},
   "outputs": [],
   "source": []
  },
  {
   "cell_type": "code",
   "execution_count": 160,
   "metadata": {},
   "outputs": [
    {
     "data": {
      "image/png": "[encoded data removed]",
      "text/plain": [
       "<Figure size 576x576 with 1 Axes>"
      ]
     },
     "metadata": {
      "needs_background": "light"
     },
     "output_type": "display_data"
    }
   ],
   "source": [
    "# trip distribution over week\n",
    "# first lets define a list with the days of the week\n",
    "days_order = ['Monday', 'Tuesday', 'Wednesday', 'Thursday', 'Friday', 'Saturday', 'Sunday']\n",
    "\n",
    "dayscat = pd.api.types.CategoricalDtype(ordered=True, categories=days_order)\n",
    "df_fgb_clean['start_day_of_week'] = df_fgb_clean['start_day_of_week'].astype(dayscat)\n",
    "sns.countplot(data=df_fgb_clean, x='start_day_of_week', color='blue');\n",
    "plt.title('Distribution of rides over days of the week')\n",
    "plt.xlabel('Trip Start Hour of week');\n",
    "plt.ylabel('Frequency');\n",
    "plt.gcf().set_size_inches(8,8)"
   ]
  },
  {
   "cell_type": "code",
   "execution_count": null,
   "metadata": {},
   "outputs": [],
   "source": []
  },
  {
   "cell_type": "markdown",
   "metadata": {},
   "source": [
    "> #### Observation:\n",
    "Plot shows Thursday has the highest number of rides recorded followed by tuesday and least Saturday and Sunday so it makes sense to have more bike on Thursdays than on sundays"
   ]
  },
  {
   "cell_type": "markdown",
   "metadata": {},
   "source": [
    "### Discuss the distribution(s) of your variable(s) of interest. Were there any unusual points? Did you need to perform any transformations?\n",
    "\n",
    "> From the analysis and visualizations done, one can say the were more trips on weekdays than at the weekend and the peak times of rides were between 8am and 5pm. It was also realised that the most users were subscribers and very few persons were not subcribers and Male riders outnumbered female riders. Majority of the users were young person between the gae 25-40 and very few riders whose ages were above 40. majority of the rides last about 5-10 mins with very few lasting up to an hour. i did perform some data transforming on the data to achive this visualizations by creating new columns with start time as demonstrated at the begining of the analysis\n",
    "\n",
    " \n",
    "\n",
    "### Of the features you investigated, were there any unusual distributions? Did you perform any operations on the data to tidy, adjust, or change the form of the data? If so, why did you do this?\n",
    ">The was an unusaul distribution in the members age as there were members with age of about 140. this age isnt realistic as a 140year old can't possible ride a bike, therefore there was a need to adjust the column to limit the age to 70 that look more realistic\n"
   ]
  },
  {
   "cell_type": "code",
   "execution_count": null,
   "metadata": {},
   "outputs": [],
   "source": []
  },
  {
   "cell_type": "markdown",
   "metadata": {},
   "source": [
    "## Bivariate Exploration\n"
   ]
  },
  {
   "cell_type": "markdown",
   "metadata": {},
   "source": [
    "#### Question:\n",
    ">How does the age of the riders distribute across the days?"
   ]
  },
  {
   "cell_type": "code",
   "execution_count": 34,
   "metadata": {},
   "outputs": [
    {
     "data": {
      "image/png": "[encoded data removed]",
      "text/plain": [
       "<Figure size 576x576 with 1 Axes>"
      ]
     },
     "metadata": {
      "needs_background": "light"
     },
     "output_type": "display_data"
    }
   ],
   "source": [
    "# one way to answer this question will be to plot the ages of the riders across the days of the weeek. \n",
    "# A box plot can be used to express this better\n",
    "\n",
    "sns.boxplot(data=df_fgb_clean, x='start_day_of_week', y='member_age', color = 'lightblue');\n",
    "plt.xlabel('Day of Week');\n",
    "plt.ylabel('Member Age');\n",
    "plt.gcf().set_size_inches(8,8)"
   ]
  },
  {
   "cell_type": "markdown",
   "metadata": {},
   "source": [
    "#### Observation:\n",
    ">From the above plot, the average age of users on weekdays is higher than weekend days"
   ]
  },
  {
   "cell_type": "markdown",
   "metadata": {},
   "source": [
    "#### Question:\n",
    ">How does user type vary across the days of the week\n",
    "    "
   ]
  },
  {
   "cell_type": "markdown",
   "metadata": {},
   "source": [
    "#### Visualization\n",
    "To answer the above question, we will have to diplay the user types across the days of the week"
   ]
  },
  {
   "cell_type": "code",
   "execution_count": 157,
   "metadata": {},
   "outputs": [
    {
     "data": {
      "image/png": "[encoded data removed]",
      "text/plain": [
       "<Figure size 720x432 with 1 Axes>"
      ]
     },
     "metadata": {
      "needs_background": "light"
     },
     "output_type": "display_data"
    }
   ],
   "source": [
    "myCountplot(df_fgb_clean, 'start_day_of_week', hue = 'user_type');"
   ]
  },
  {
   "cell_type": "code",
   "execution_count": null,
   "metadata": {},
   "outputs": [],
   "source": []
  },
  {
   "cell_type": "markdown",
   "metadata": {},
   "source": [
    "#### Observation:\n",
    ">Plot demonstrates that there are more users who are subcribers than just ordinary customers and the bar charts reveal they ride more on week days than on weekends. Unlike users who are just ordinary customers do not have a clear pattern of when they preferably ride. One can not say for sure what cause this patterns but i guess the reason why there are more subscribed customers is because the subcription deals are perhaps better that ordinary customer deals."
   ]
  },
  {
   "cell_type": "markdown",
   "metadata": {},
   "source": [
    "#### Question: \n",
    ">What is the average trip duration with respect to the days?"
   ]
  },
  {
   "cell_type": "markdown",
   "metadata": {},
   "source": [
    "#### Visualization"
   ]
  },
  {
   "cell_type": "code",
   "execution_count": 36,
   "metadata": {},
   "outputs": [
    {
     "data": {
      "image/png": "[encoded data removed]",
      "text/plain": [
       "<Figure size 504x504 with 1 Axes>"
      ]
     },
     "metadata": {
      "needs_background": "light"
     },
     "output_type": "display_data"
    }
   ],
   "source": [
    "sns.barplot(data=df_fgb_clean, x='start_day_of_week', y='duration_in_minute', color = 'blue');\n",
    "plt.xlabel('Days of the Week');\n",
    "plt.ylabel('The Average Trip Duration In Minute');\n",
    "plt.gcf().set_size_inches(7,7)"
   ]
  },
  {
   "cell_type": "markdown",
   "metadata": {},
   "source": [
    "#### Observation\n",
    ">Rides are considerably shorter on Monday through Friday but longer in the weekend. "
   ]
  },
  {
   "cell_type": "markdown",
   "metadata": {},
   "source": [
    "### Talk about some of the relationships you observed in this part of the investigation. How did the feature(s) of interest vary with other features in the dataset?\n",
    "\n",
    "> in this setion, most of the biplots were done on the usertype against other parameters. from the visualizations, its clear  There is significantly more subsribed users compared to users who are customers. Subscribers and customers have distinct behavior patterns when it comes to riding. Most trips taken by subscribers are on weekdays during peak hours for commuting, while customers tend to ride for leisure on weekends in the afternoon or early evenings. Subscribers are slightly older and tend to take longer rides on average compared to non-subscribers.\n",
    "\n",
    "### Did you observe any interesting relationships between the other features (not the main feature(s) of interest)?\n",
    "\n",
    "> It's worth noting that subscribers who were ilustrated to be slightly older on average , take shorter and faster rides compared to customers. There is a significant difference in the length of trips taken by customers and subscribers. with customer trips considerably shorter that subscribed users."
   ]
  },
  {
   "cell_type": "markdown",
   "metadata": {},
   "source": [
    "## Multivariate Exploration\n",
    "\n"
   ]
  },
  {
   "cell_type": "markdown",
   "metadata": {},
   "source": [
    "#### Question: \n",
    "> How does the average trip duration differ between the customers and the subcribers on weekdays"
   ]
  },
  {
   "cell_type": "code",
   "execution_count": 48,
   "metadata": {},
   "outputs": [
    {
     "data": {
      "image/png": "[encoded data removed]",
      "text/plain": [
       "<Figure size 648x648 with 1 Axes>"
      ]
     },
     "metadata": {
      "needs_background": "light"
     },
     "output_type": "display_data"
    }
   ],
   "source": [
    "sns.pointplot(data=df_fgb_clean, x='start_day_of_week', y='duration_in_minute', hue='user_type', dodge=0.3, linestyles=\"\", color = 'blue');\n",
    "plt.xlabel('Day of Week');\n",
    "plt.ylabel('The Average Trip Duration in Minute');\n",
    "plt.gcf().set_size_inches(9,9)"
   ]
  },
  {
   "cell_type": "markdown",
   "metadata": {},
   "source": [
    "#### Observation:\n",
    "> The above plots combines average trip duration for the user with respect to days. From the plot, it is clear to see that the average trip duration for subscribers is shorter than for customers. and its also clear that all the user types had longer ride times on average in the weekends although those of subcribers remain condiserably shorter than customers "
   ]
  },
  {
   "cell_type": "markdown",
   "metadata": {},
   "source": [
    "#### Questio: \n",
    "What is the weekly hour usage of various users"
   ]
  },
  {
   "cell_type": "code",
   "execution_count": 49,
   "metadata": {},
   "outputs": [
    {
     "data": {
      "image/png": "[encoded data removed]",
      "text/plain": [
       "<Figure size 576x288 with 2 Axes>"
      ]
     },
     "metadata": {
      "needs_background": "light"
     },
     "output_type": "display_data"
    }
   ],
   "source": [
    "# a way we can aswer this is to create a heat map which show the density of users at the different time of the day across the week\n",
    "customers = df_fgb_clean.query('user_type == \"Customer\"')\n",
    "c = customers.groupby(['start_day_of_week', 'start_hour_of_day']).size()\n",
    "c = c.reset_index(name='count')\n",
    "c = c.pivot(index='start_day_of_week', columns='start_hour_of_day', values='count')\n",
    "sns.heatmap(c, cmap='Blues')\n",
    "\n",
    "plt.xlabel('Hour of Day', color='darkblue')\n",
    "plt.ylabel('Day of Week', color='darkblue')\n",
    "plt.suptitle('Weekday Hourly Usage for Customers ',color='darkblue')\n",
    "plt.gcf().set_size_inches(8,4);\n"
   ]
  },
  {
   "cell_type": "code",
   "execution_count": 50,
   "metadata": {},
   "outputs": [
    {
     "data": {
      "image/png": "[encoded data removed]",
      "text/plain": [
       "<Figure size 576x288 with 2 Axes>"
      ]
     },
     "metadata": {
      "needs_background": "light"
     },
     "output_type": "display_data"
    }
   ],
   "source": [
    "Subscriber = df_fgb_clean.query('user_type == \"Subscriber\"')\n",
    "c = Subscriber.groupby(['start_day_of_week', 'start_hour_of_day']).size()\n",
    "c = c.reset_index(name='count')\n",
    "c = c.pivot(index='start_day_of_week', columns='start_hour_of_day', values='count')\n",
    "sns.heatmap(c, cmap='Blues')\n",
    "plt.xlabel('Hour of Day', color='darkblue')\n",
    "plt.ylabel('Day of Week', color='darkblue')\n",
    "plt.suptitle('Weekday Hourly Usage for Subscriber ',color='darkblue')\n",
    "plt.gcf().set_size_inches(8,4);"
   ]
  },
  {
   "cell_type": "markdown",
   "metadata": {},
   "source": [
    "#### Question:\n",
    "    How distributed are the rides among the the users inline with the gender."
   ]
  },
  {
   "cell_type": "code",
   "execution_count": 51,
   "metadata": {},
   "outputs": [
    {
     "data": {
      "image/png": "[encoded data removed]",
      "text/plain": [
       "<Figure size 576x576 with 1 Axes>"
      ]
     },
     "metadata": {
      "needs_background": "light"
     },
     "output_type": "display_data"
    }
   ],
   "source": [
    "sns.countplot(data=df_fgb_clean, x=\"user_type\", hue=\"member_gender\", order=df_fgb_clean.user_type.value_counts().index,color='blue')\n",
    "plt.gcf().set_size_inches(8,8)"
   ]
  },
  {
   "cell_type": "markdown",
   "metadata": {},
   "source": [
    "#### Observation:\n",
    "> From the above plot, it is clear that the male gender are the most riders in the two user categories  with the least \n",
    "from  those who did not  mention their sex thus, the males conclusively use the bike service more than females \n"
   ]
  },
  {
   "cell_type": "markdown",
   "metadata": {},
   "source": [
    "### Talk about some of the relationships you observed in this part of the investigation. Were there features that strengthened each other in terms of looking at your feature(s) of interest?\n",
    "\n",
    "> The multivariate exploration allows for the simultaneous examination of multiple variables and provides additional information, which improves the identification of patterns previously observed in bivariate and univariate studies. Male users tend to use the service more often than female users, and subscribers tend to use the service more on weekdays, possibly for work commutes. On the other hand, non-subscribing customers exhibit a more relaxed pattern of usage, using the bike-sharing system mostly on weekends and in the afternoons for leisure purposes.\n",
    "\n",
    "### Were there any interesting or surprising interactions between features?\n",
    "\n",
    "> Taking into account the relationship between the characteristics one can say fit together well and make sense, so there are no unexpected findings. The study found little difference in usage habits between male and female riders. However, it would be intriguing to examine any potential differences if there were more data available for female riders. The study only analyzed data from February, and it would be enlightening to see if there are any seasonal patterns in usage by looking at data from other months, specifically, whether usage increases during the summer or winter months."
   ]
  },
  {
   "cell_type": "markdown",
   "metadata": {},
   "source": [
    "## Conclusions\n",
    "> Conclusively, the dataset proveded had litle modification to be done to it in terms of cleaning. Nonetheless, the dataset was tidyup by adding some new columns which were helpful to generate better insights from the data. the age of customers were also determine to have an idea about the riders and their age difference and it was noticed that very high age riders were in the dataset which did not seem to be a reality thus the columns for age was limited only to those whose ages were below 70years which is a more realistic age for riders. from the visualizations made from the dataset, there is little difference in usage habits between male and female riders. However, it would be intriguing to examine any potential differences if there were more data available for female riders. The study only analyzed data from February, and it would be enlightening to see if there are any seasonal patterns in usage by looking at data from other months, specifically, whether usage increases during the summer or winter months. \n"
   ]
  },
  {
   "cell_type": "code",
   "execution_count": null,
   "metadata": {},
   "outputs": [],
   "source": []
  }
 ],
 "metadata": {
  "kernelspec": {
   "display_name": "Python 3",
   "language": "python",
   "name": "python3"
  },
  "language_info": {
   "codemirror_mode": {
    "name": "ipython",
    "version": 3
   },
   "file_extension": ".py",
   "mimetype": "text/x-python",
   "name": "python",
   "nbconvert_exporter": "python",
   "pygments_lexer": "ipython3",
   "version": "3.8.8"
  }
 },
 "nbformat": 4,
 "nbformat_minor": 2
}
