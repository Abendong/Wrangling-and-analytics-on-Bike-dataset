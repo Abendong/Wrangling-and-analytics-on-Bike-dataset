{
 "cells": [
  {
   "cell_type": "markdown",
   "id": "bad3eb58",
   "metadata": {},
   "source": [
    "##### The essense of this note book to present some key findings from the Fordgobike dataset  in a the form of visualizations. To begin, we have to import the neccessary librairies, load the appriopriate data (the already cleaned dataset from the innitial assesment.e Part_I_notebook), and answer questions which will provide insights to the dataset"
   ]
  },
  {
   "cell_type": "code",
   "execution_count": 3,
   "id": "7f3089ef",
   "metadata": {},
   "outputs": [],
   "source": [
    "# import all packages and set plots to be embedded inline\n",
    "import numpy as np\n",
    "import pandas as pd\n",
    "import matplotlib.pyplot as plt\n",
    "import seaborn as sns\n",
    "\n",
    "%matplotlib inline"
   ]
  },
  {
   "cell_type": "code",
   "execution_count": 4,
   "id": "ff1f040d",
   "metadata": {},
   "outputs": [],
   "source": [
    "# loading Data of interest\n",
    "df_fgb_clean = pd.read_csv('df_fgb_clean.csv')"
   ]
  },
  {
   "cell_type": "code",
   "execution_count": 14,
   "id": "1e06fc91",
   "metadata": {},
   "outputs": [
    {
     "data": {
      "text/html": [
       "<div>\n",
       "<style scoped>\n",
       "    .dataframe tbody tr th:only-of-type {\n",
       "        vertical-align: middle;\n",
       "    }\n",
       "\n",
       "    .dataframe tbody tr th {\n",
       "        vertical-align: top;\n",
       "    }\n",
       "\n",
       "    .dataframe thead th {\n",
       "        text-align: right;\n",
       "    }\n",
       "</style>\n",
       "<table border=\"1\" class=\"dataframe\">\n",
       "  <thead>\n",
       "    <tr style=\"text-align: right;\">\n",
       "      <th></th>\n",
       "      <th>Unnamed: 0</th>\n",
       "      <th>bike_id</th>\n",
       "      <th>user_type</th>\n",
       "      <th>member_birth_year</th>\n",
       "      <th>member_gender</th>\n",
       "      <th>member_age</th>\n",
       "      <th>start_station_id</th>\n",
       "      <th>start_time</th>\n",
       "      <th>start_date</th>\n",
       "      <th>start_hour_of_day</th>\n",
       "      <th>...</th>\n",
       "      <th>start_station_latitude</th>\n",
       "      <th>start_station_longitude</th>\n",
       "      <th>end_time</th>\n",
       "      <th>duration_sec</th>\n",
       "      <th>duration_in_minute</th>\n",
       "      <th>end_station_id</th>\n",
       "      <th>end_station_name</th>\n",
       "      <th>end_station_latitude</th>\n",
       "      <th>end_station_longitude</th>\n",
       "      <th>bike_share_for_all_trip</th>\n",
       "    </tr>\n",
       "  </thead>\n",
       "  <tbody>\n",
       "    <tr>\n",
       "      <th>0</th>\n",
       "      <td>0</td>\n",
       "      <td>4902</td>\n",
       "      <td>Customer</td>\n",
       "      <td>1984.0</td>\n",
       "      <td>Male</td>\n",
       "      <td>35.0</td>\n",
       "      <td>21.0</td>\n",
       "      <td>2019-02-28 17:32:10.145</td>\n",
       "      <td>2019-02-28</td>\n",
       "      <td>17</td>\n",
       "      <td>...</td>\n",
       "      <td>37.789625</td>\n",
       "      <td>-122.400811</td>\n",
       "      <td>2019-03-01 08:01:55.975</td>\n",
       "      <td>52185</td>\n",
       "      <td>869.750000</td>\n",
       "      <td>13.0</td>\n",
       "      <td>Commercial St at Montgomery St</td>\n",
       "      <td>37.794231</td>\n",
       "      <td>-122.402923</td>\n",
       "      <td>False</td>\n",
       "    </tr>\n",
       "    <tr>\n",
       "      <th>1</th>\n",
       "      <td>2</td>\n",
       "      <td>5905</td>\n",
       "      <td>Customer</td>\n",
       "      <td>1972.0</td>\n",
       "      <td>Male</td>\n",
       "      <td>47.0</td>\n",
       "      <td>86.0</td>\n",
       "      <td>2019-02-28 12:13:13.218</td>\n",
       "      <td>2019-02-28</td>\n",
       "      <td>12</td>\n",
       "      <td>...</td>\n",
       "      <td>37.769305</td>\n",
       "      <td>-122.426826</td>\n",
       "      <td>2019-03-01 05:24:08.146</td>\n",
       "      <td>61854</td>\n",
       "      <td>1030.900000</td>\n",
       "      <td>3.0</td>\n",
       "      <td>Powell St BART Station (Market St at 4th St)</td>\n",
       "      <td>37.786375</td>\n",
       "      <td>-122.404904</td>\n",
       "      <td>False</td>\n",
       "    </tr>\n",
       "    <tr>\n",
       "      <th>2</th>\n",
       "      <td>3</td>\n",
       "      <td>6638</td>\n",
       "      <td>Subscriber</td>\n",
       "      <td>1989.0</td>\n",
       "      <td>Other</td>\n",
       "      <td>30.0</td>\n",
       "      <td>375.0</td>\n",
       "      <td>2019-02-28 17:54:26.010</td>\n",
       "      <td>2019-02-28</td>\n",
       "      <td>17</td>\n",
       "      <td>...</td>\n",
       "      <td>37.774836</td>\n",
       "      <td>-122.446546</td>\n",
       "      <td>2019-03-01 04:02:36.842</td>\n",
       "      <td>36490</td>\n",
       "      <td>608.166667</td>\n",
       "      <td>70.0</td>\n",
       "      <td>Central Ave at Fell St</td>\n",
       "      <td>37.773311</td>\n",
       "      <td>-122.444293</td>\n",
       "      <td>False</td>\n",
       "    </tr>\n",
       "    <tr>\n",
       "      <th>3</th>\n",
       "      <td>4</td>\n",
       "      <td>4898</td>\n",
       "      <td>Subscriber</td>\n",
       "      <td>1974.0</td>\n",
       "      <td>Male</td>\n",
       "      <td>45.0</td>\n",
       "      <td>7.0</td>\n",
       "      <td>2019-02-28 23:54:18.549</td>\n",
       "      <td>2019-02-28</td>\n",
       "      <td>23</td>\n",
       "      <td>...</td>\n",
       "      <td>37.804562</td>\n",
       "      <td>-122.271738</td>\n",
       "      <td>2019-03-01 00:20:44.074</td>\n",
       "      <td>1585</td>\n",
       "      <td>26.416667</td>\n",
       "      <td>222.0</td>\n",
       "      <td>10th Ave at E 15th St</td>\n",
       "      <td>37.792714</td>\n",
       "      <td>-122.248780</td>\n",
       "      <td>True</td>\n",
       "    </tr>\n",
       "    <tr>\n",
       "      <th>4</th>\n",
       "      <td>5</td>\n",
       "      <td>5200</td>\n",
       "      <td>Subscriber</td>\n",
       "      <td>1959.0</td>\n",
       "      <td>Male</td>\n",
       "      <td>60.0</td>\n",
       "      <td>93.0</td>\n",
       "      <td>2019-02-28 23:49:58.632</td>\n",
       "      <td>2019-02-28</td>\n",
       "      <td>23</td>\n",
       "      <td>...</td>\n",
       "      <td>37.770407</td>\n",
       "      <td>-122.391198</td>\n",
       "      <td>2019-03-01 00:19:51.760</td>\n",
       "      <td>1793</td>\n",
       "      <td>29.883333</td>\n",
       "      <td>323.0</td>\n",
       "      <td>Broadway at Kearny</td>\n",
       "      <td>37.798014</td>\n",
       "      <td>-122.405950</td>\n",
       "      <td>False</td>\n",
       "    </tr>\n",
       "  </tbody>\n",
       "</table>\n",
       "<p>5 rows × 23 columns</p>\n",
       "</div>"
      ],
      "text/plain": [
       "   Unnamed: 0  bike_id   user_type  member_birth_year member_gender  \\\n",
       "0           0     4902    Customer             1984.0          Male   \n",
       "1           2     5905    Customer             1972.0          Male   \n",
       "2           3     6638  Subscriber             1989.0         Other   \n",
       "3           4     4898  Subscriber             1974.0          Male   \n",
       "4           5     5200  Subscriber             1959.0          Male   \n",
       "\n",
       "   member_age  start_station_id               start_time  start_date  \\\n",
       "0        35.0              21.0  2019-02-28 17:32:10.145  2019-02-28   \n",
       "1        47.0              86.0  2019-02-28 12:13:13.218  2019-02-28   \n",
       "2        30.0             375.0  2019-02-28 17:54:26.010  2019-02-28   \n",
       "3        45.0               7.0  2019-02-28 23:54:18.549  2019-02-28   \n",
       "4        60.0              93.0  2019-02-28 23:49:58.632  2019-02-28   \n",
       "\n",
       "   start_hour_of_day  ... start_station_latitude start_station_longitude  \\\n",
       "0                 17  ...              37.789625             -122.400811   \n",
       "1                 12  ...              37.769305             -122.426826   \n",
       "2                 17  ...              37.774836             -122.446546   \n",
       "3                 23  ...              37.804562             -122.271738   \n",
       "4                 23  ...              37.770407             -122.391198   \n",
       "\n",
       "                  end_time  duration_sec  duration_in_minute end_station_id  \\\n",
       "0  2019-03-01 08:01:55.975         52185          869.750000           13.0   \n",
       "1  2019-03-01 05:24:08.146         61854         1030.900000            3.0   \n",
       "2  2019-03-01 04:02:36.842         36490          608.166667           70.0   \n",
       "3  2019-03-01 00:20:44.074          1585           26.416667          222.0   \n",
       "4  2019-03-01 00:19:51.760          1793           29.883333          323.0   \n",
       "\n",
       "                               end_station_name  end_station_latitude  \\\n",
       "0                Commercial St at Montgomery St             37.794231   \n",
       "1  Powell St BART Station (Market St at 4th St)             37.786375   \n",
       "2                        Central Ave at Fell St             37.773311   \n",
       "3                         10th Ave at E 15th St             37.792714   \n",
       "4                            Broadway at Kearny             37.798014   \n",
       "\n",
       "   end_station_longitude bike_share_for_all_trip  \n",
       "0            -122.402923                   False  \n",
       "1            -122.404904                   False  \n",
       "2            -122.444293                   False  \n",
       "3            -122.248780                    True  \n",
       "4            -122.405950                   False  \n",
       "\n",
       "[5 rows x 23 columns]"
      ]
     },
     "execution_count": 14,
     "metadata": {},
     "output_type": "execute_result"
    }
   ],
   "source": [
    "df_fgb_clean.head()"
   ]
  },
  {
   "cell_type": "markdown",
   "id": "c7751a47",
   "metadata": {},
   "source": [
    "##### Insight 1: How distributed are the user type within the dataset?\n",
    "\n",
    "\n",
    "##### Insight 2: How distributed are the rides amongst the days of the week? and what is the peak ride time during the course of a day?\n",
    "\n",
    "##### Insight 3: How does user type vary across the days of the week?\n"
   ]
  },
  {
   "cell_type": "markdown",
   "id": "13f9a671",
   "metadata": {},
   "source": [
    "Answering the quesstions will provide some valuable insights to the dataset\n"
   ]
  },
  {
   "cell_type": "markdown",
   "id": "3b5d0493",
   "metadata": {},
   "source": [
    "#### Response to insight 1: \n"
   ]
  },
  {
   "cell_type": "code",
   "execution_count": 26,
   "id": "507b4769",
   "metadata": {},
   "outputs": [],
   "source": [
    "def myCountplot(df,xVar,hue=None,color=1, palette=None,order=None):\n",
    "    '''This fuction is writen to avoid code repeatition for the 'countplot method'. it will be called when needed\n",
    "    '''\n",
    "    \n",
    "    #plot dimension\n",
    "    plt.figure(figsize=[10, 6])\n",
    "    #plot\n",
    "    sns.countplot(data = df_fgb_clean , x = xVar, hue = hue, color = sns.color_palette('icefire')[color], palette=palette, order=order, edgecolor = 'black');\n",
    "    xVar=xVar.replace('_',' ' ) # code replaces _ with space\n",
    "    if hue:\n",
    "        hue=hue.replace('_',' ')\n",
    "    #adding title to plot\n",
    "    plt.title(f'''Distribution of {xVar} {'by' if hue else ''} {hue if hue else ''}'''.title(), fontsize=14, weight = 'bold')\n",
    "    plt.xlabel(xVar.title(), fontsize = 10, weight = 'bold')\n",
    "\n",
    "    plt.ylabel('Frequency'.title(), fontsize=10, weight = 'bold')\n",
    "    return myCountplot"
   ]
  },
  {
   "cell_type": "code",
   "execution_count": 27,
   "id": "e269f7f7",
   "metadata": {},
   "outputs": [
    {
     "data": {
      "image/png": "[encoded data removed]",
      "text/plain": [
       "<Figure size 720x432 with 1 Axes>"
      ]
     },
     "metadata": {
      "needs_background": "light"
     },
     "output_type": "display_data"
    }
   ],
   "source": [
    "#Constructing a plot of the user-type against their respective counts in the data set helps answer the question. \n",
    "# the countplot method of the seaborn library is helpful in chieving that\n",
    "\n",
    "myCountplot(df_fgb_clean, 'user_type');"
   ]
  },
  {
   "cell_type": "markdown",
   "id": "b1c5477c",
   "metadata": {},
   "source": [
    ">Almost all the riders are subcribers (~160000) with only less than 20000 being customers."
   ]
  },
  {
   "cell_type": "markdown",
   "id": "316eec1c",
   "metadata": {},
   "source": [
    "#### Response to insight 2: "
   ]
  },
  {
   "cell_type": "code",
   "execution_count": 28,
   "id": "119282cc",
   "metadata": {},
   "outputs": [
    {
     "data": {
      "image/png": "[encoded data removed]",
      "text/plain": [
       "<Figure size 576x432 with 1 Axes>"
      ]
     },
     "metadata": {
      "needs_background": "light"
     },
     "output_type": "display_data"
    }
   ],
   "source": [
    "# trip distribution over week\n",
    "# first lets define a list with the days of the week\n",
    "days_order = ['Monday', 'Tuesday', 'Wednesday', 'Thursday', 'Friday', 'Saturday', 'Sunday']\n",
    "\n",
    "dayscat = pd.api.types.CategoricalDtype(ordered=True, categories=days_order)\n",
    "df_fgb_clean['start_day_of_week'] = df_fgb_clean['start_day_of_week'].astype(dayscat)\n",
    "sns.countplot(data=df_fgb_clean, x='start_day_of_week', color='blue');\n",
    "plt.title('Distribution of rides over days of the week')\n",
    "plt.xlabel('Trip Start Hour of week');\n",
    "plt.ylabel('Frequency');\n",
    "plt.gcf().set_size_inches(8,6)"
   ]
  },
  {
   "cell_type": "code",
   "execution_count": 29,
   "id": "23aea718",
   "metadata": {},
   "outputs": [
    {
     "data": {
      "image/png": "[encoded data removed]",
      "text/plain": [
       "<Figure size 432x288 with 1 Axes>"
      ]
     },
     "metadata": {
      "needs_background": "light"
     },
     "output_type": "display_data"
    }
   ],
   "source": [
    "# ride distribution over hours of the day to discover the peak ride time of a day\n",
    "sns.countplot(data=df_fgb_clean, x='start_hour_of_day', order = sorted(df_fgb_clean['start_hour_of_day'].unique()), color='blue');\n",
    "plt.title('Distribution of rides over hours of the day')\n",
    "plt.xlabel('Trip Start Hour of Day');\n",
    "plt.ylabel('Frequency');"
   ]
  },
  {
   "cell_type": "markdown",
   "id": "73b46816",
   "metadata": {},
   "source": [
    "From the analysis and visualizations done, one can say the were more trips on weekdays(Monday - friday) than at the weekend (saturday and Saturday)  and the peak times of rides were between 8am and 5pm with 8am and 5pm being the busiest hours of rides. "
   ]
  },
  {
   "cell_type": "code",
   "execution_count": null,
   "id": "123d60c8",
   "metadata": {},
   "outputs": [],
   "source": []
  },
  {
   "cell_type": "markdown",
   "id": "b09a8c0d",
   "metadata": {},
   "source": [
    "#### Response to Insight 3\n",
    "> A display of the user types across the days of the week will be isigntful to asnwer the posted question"
   ]
  },
  {
   "cell_type": "code",
   "execution_count": 30,
   "id": "dd345313",
   "metadata": {},
   "outputs": [
    {
     "data": {
      "image/png": "[encoded data removed]",
      "text/plain": [
       "<Figure size 720x432 with 1 Axes>"
      ]
     },
     "metadata": {
      "needs_background": "light"
     },
     "output_type": "display_data"
    }
   ],
   "source": [
    "myCountplot(df_fgb_clean, 'start_day_of_week', hue = 'user_type');"
   ]
  },
  {
   "cell_type": "markdown",
   "id": "d7831b8a",
   "metadata": {},
   "source": [
    ">Plot demonstrates that there are more users who are subscribers than just ordinary customers and the bar charts reveal they ride more on week days than on weekends. Unlike users who are just ordinary customers that do not have a clear pattern of when they preferably ride. One can not say for sure what cause this patterns but i guess the reason why there are more subscribed customers is probably because the subcription deals are perhaps better that ordinary customer deals."
   ]
  }
 ],
 "metadata": {
  "kernelspec": {
   "display_name": "Python 3",
   "language": "python",
   "name": "python3"
  },
  "language_info": {
   "codemirror_mode": {
    "name": "ipython",
    "version": 3
   },
   "file_extension": ".py",
   "mimetype": "text/x-python",
   "name": "python",
   "nbconvert_exporter": "python",
   "pygments_lexer": "ipython3",
   "version": "3.8.8"
  }
 },
 "nbformat": 4,
 "nbformat_minor": 5
}
